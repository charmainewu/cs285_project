{
 "cells": [
  {
   "cell_type": "code",
   "execution_count": 1,
   "metadata": {},
   "outputs": [],
   "source": [
    "import os\n",
    "import json\n",
    "import torch\n",
    "import pprint\n",
    "import numpy as np\n",
    "from tensorboard_logger import Logger as TbLogger\n",
    "import warnings\n",
    "from problems.problem_tsp import TSP\n",
    "from problems.problem_vrp import CVRP\n",
    "from agent.ppo import PPO\n",
    "from tqdm.notebook import tqdm\n",
    "from options import get_options\n",
    "from torch.utils.data import DataLoader\n",
    "from problems.problem_tsp import TSPDataset\n",
    "import torch\n",
    "from matplotlib import pyplot as plt\n",
    "from problems.problem_tsp import get_real_seq\n",
    "import tensorflow as tf"
   ]
  },
  {
   "cell_type": "code",
   "execution_count": null,
   "metadata": {},
   "outputs": [
    {
     "name": "stdout",
     "output_type": "stream",
     "text": [
      "The tensorboard extension is already loaded. To reload it, use:\n",
      "  %reload_ext tensorboard\n"
     ]
    },
    {
     "data": {
      "text/plain": [
       "Reusing TensorBoard on port 6006 (pid 8843), started 0:01:55 ago. (Use '!kill 8843' to kill it.)"
      ]
     },
     "metadata": {},
     "output_type": "display_data"
    },
    {
     "data": {
      "text/html": [
       "\n",
       "      <iframe id=\"tensorboard-frame-164cf3f863a312da\" width=\"100%\" height=\"800\" frameborder=\"0\">\n",
       "      </iframe>\n",
       "      <script>\n",
       "        (function() {\n",
       "          const frame = document.getElementById(\"tensorboard-frame-164cf3f863a312da\");\n",
       "          const url = new URL(\"http://localhost\");\n",
       "          const port = 6006;\n",
       "          if (port) {\n",
       "            url.port = port;\n",
       "          }\n",
       "          frame.src = url;\n",
       "        })();\n",
       "      </script>\n",
       "    "
      ],
      "text/plain": [
       "<IPython.core.display.HTML object>"
      ]
     },
     "metadata": {},
     "output_type": "display_data"
    }
   ],
   "source": [
    "%load_ext tensorboard\n",
    "%tensorboard --logdir logs/tsp_20"
   ]
  },
  {
   "cell_type": "code",
   "execution_count": 10,
   "metadata": {},
   "outputs": [],
   "source": [
    "# import glob\n",
    "# import tensorflow as tf\n",
    "\n",
    "# def get_section_results(file):\n",
    "#     \"\"\"\n",
    "#         requires tensorflow==1.12.0\n",
    "#     \"\"\"\n",
    "#     X = []\n",
    "#     Y = []\n",
    "#     for e in tf.train.summary_iterator(file):\n",
    "#         for v in e.summary.value:\n",
    "#             if v.tag == 'Train_EnvstepsSoFar':\n",
    "#                 X.append(v.simple_value)\n",
    "#             elif v.tag == 'Eval_AverageReturn':\n",
    "#                 Y.append(v.simple_value)\n",
    "#     return X, Y\n",
    "\n",
    "# if __name__ == '__main__':\n",
    "#     import glob\n",
    "\n",
    "#     logdir = 'data/q1_lb_rtg_na_CartPole-v0_13-09-2020_23-32-10/events*'\n",
    "#     eventfile = glob.glob(logdir)[0]\n",
    "\n",
    "#     X, Y = get_section_results(eventfile)\n",
    "#     for i, (x, y) in enumerate(zip(X, Y)):\n",
    "#         print('Iteration {:d} | Train steps: {:d} | Return: {}'.format(i, int(x), y))"
   ]
  },
  {
   "cell_type": "code",
   "execution_count": 9,
   "metadata": {},
   "outputs": [],
   "source": [
    "import glob\n",
    "import tensorflow as tf\n",
    "import tensorflow.compat.v1 as tf\n",
    "tf.disable_v2_behavior()\n",
    "\n",
    "eventfile = '/home/jiaman/VRP-DACT-new_version/logs/tsp_20/run_name_20221207T211024/events.out.tfevents.1670476224.ASUS13'\n",
    "\n",
    "for e in tf.train.summary_iterator(eventfile):\n",
    "    for v in e.summary.value:\n",
    "        print(v.tag)"
   ]
  },
  {
   "cell_type": "code",
   "execution_count": 2,
   "metadata": {},
   "outputs": [],
   "source": [
    "def load_agent(name):\n",
    "    agent = {\n",
    "        'ppo': PPO,\n",
    "    }.get(name, None)\n",
    "    assert agent is not None, \"Currently unsupported agent: {}!\".format(name)\n",
    "    return agent\n",
    "\n",
    "def load_problem(name):\n",
    "    problem = {\n",
    "        'tsp': TSP,\n",
    "        'vrp': CVRP,\n",
    "    }.get(name, None)\n",
    "    assert problem is not None, \"Currently unsupported problem: {}!\".format(name)\n",
    "    return problem\n",
    "\n",
    "def plot_tour(rec, coordinates, dpi = 300):\n",
    "    plt.figure(figsize=(8,6))\n",
    "    plt.xticks(fontsize=12)\n",
    "    plt.yticks(fontsize=12)\n",
    "    plt.axis([-0.05, 1.05]*2)\n",
    "    # plot the nodes\n",
    "    plt.scatter(coordinates[:,0], coordinates[:,1], marker = 'H', s = 55, c = 'blue', zorder = 2)\n",
    "    # plot the tour\n",
    "    real_seq = get_real_seq(rec.unsqueeze(0))\n",
    "    real_seq_coordinates = coordinates.gather(0,real_seq[0].unsqueeze(1).repeat(1,2))\n",
    "    real_seq_coordinates = torch.cat((real_seq_coordinates, real_seq_coordinates[:1]),0)\n",
    "    plt.plot(real_seq_coordinates[:,0], real_seq_coordinates[:,1], color = 'black', zorder = 1)\n",
    "    # mark node\n",
    "    for i,txt in enumerate(range(rec.size(0))):\n",
    "        plt.annotate(txt,(coordinates[i,0]+0.01, coordinates[i,1]+0.01),)\n",
    "    plt.show()"
   ]
  },
  {
   "cell_type": "code",
   "execution_count": 10,
   "metadata": {},
   "outputs": [
    {
     "name": "stdout",
     "output_type": "stream",
     "text": [
      "TSP with 20 nodes.  Do assert: False\n"
     ]
    }
   ],
   "source": [
    "# opts = get_options('')\n",
    "# opts.problem = 'tsp'\n",
    "# opts.graph_size = 20\n",
    "# opts.val_dataset='./datasets/tsp_20_10000.pkl'\n",
    "# opts.step_method = '2_opt'\n",
    "# opts.init_val_met = 'random'\n",
    "# opts.no_saving = False\n",
    "# opts.no_tb = False\n",
    "# opts.batch_size = 16\n",
    "# opts.epoch_end = 100\n",
    "# opts.epoch_size = 128\n",
    "# opts.T_max = 1000\n",
    "# opts.val_size = 10\n",
    "# opts.device = torch.device(\"cuda\" if opts.use_cuda else \"cpu\")\n",
    "\n",
    "# tb_logger = None\n",
    "# if not opts.no_tb and not opts.distributed:\n",
    "#     tb_logger = TbLogger(os.path.join(opts.log_dir, \"{}_{}\".format(opts.problem, \n",
    "#                                                       opts.graph_size), opts.run_name))\n",
    "# if not opts.no_saving and not os.path.exists(opts.save_dir):\n",
    "#     os.makedirs(opts.save_dir)\n",
    "# if not opts.no_saving:\n",
    "#     with open(os.path.join(opts.save_dir, \"args.json\"), 'w') as f:\n",
    "#         json.dump(vars(opts), f, indent=True)\n",
    "\n",
    "# problem = load_problem(opts.problem)(\n",
    "#                         p_size = opts.graph_size,\n",
    "#                         step_method = opts.step_method,\n",
    "#                         init_val_met = opts.init_val_met,\n",
    "#                         with_assert = opts.use_assert,\n",
    "#                         P = opts.P,\n",
    "#                         DUMMY_RATE = opts.dummy_rate)\n",
    "# exp_dual = False; exp_encoder='attention'; exp_decoder = 'rnn' \n",
    "# agent = load_agent(opts.RL_agent)(exp_dual, exp_encoder, exp_decoder, problem.NAME, problem.size,  opts)\n",
    "# agent.start_training(problem, opts.val_dataset, tb_logger)"
   ]
  },
  {
   "cell_type": "code",
   "execution_count": 14,
   "metadata": {},
   "outputs": [],
   "source": [
    "for exp_dual in [False,True]:\n",
    "    for exp_encoder in ['attention']:\n",
    "            for exp_decoder in ['attention']:\n",
    "                opts = get_options('')\n",
    "                opts.problem = 'tsp'\n",
    "                opts.graph_size = 20\n",
    "                opts.val_dataset='./datasets/tsp_20_10000.pkl'\n",
    "                opts.step_method = '2_opt'\n",
    "                opts.init_val_met = 'random'\n",
    "                opts.no_saving = False\n",
    "                opts.no_tb = False\n",
    "                opts.batch_size = 16\n",
    "                opts.epoch_end = 200\n",
    "                opts.epoch_size = 128\n",
    "                opts.T_max = 1000\n",
    "                opts.val_size = 10\n",
    "                opts.device = torch.device(\"cuda\" if opts.use_cuda else \"cpu\")\n",
    "\n",
    "                tb_logger = None\n",
    "                if not opts.no_tb and not opts.distributed:\n",
    "                    tb_logger = TbLogger(os.path.join(opts.log_dir, \"{}_{}\".format(opts.problem, \n",
    "                                                                    opts.graph_size), opts.run_name))\n",
    "                if not opts.no_saving and not os.path.exists(opts.save_dir):\n",
    "                    os.makedirs(opts.save_dir)\n",
    "                if not opts.no_saving:\n",
    "                    with open(os.path.join(opts.save_dir, \"args.json\"), 'w') as f:\n",
    "                        json.dump(list(vars(opts)), f, indent=True)\n",
    "\n",
    "                problem = load_problem(opts.problem)(\n",
    "                                        p_size = opts.graph_size,\n",
    "                                        step_method = opts.step_method,\n",
    "                                        init_val_met = opts.init_val_met,\n",
    "                                        with_assert = opts.use_assert,\n",
    "                                        P = opts.P,\n",
    "                                        DUMMY_RATE = opts.dummy_rate)\n",
    "                agent = load_agent(opts.RL_agent)(exp_dual, exp_encoder, exp_decoder, problem.NAME, problem.size,  opts)\n",
    "                agent.start_training(problem, opts.val_dataset, tb_logger)"
   ]
  },
  {
   "cell_type": "code",
   "execution_count": 3,
   "metadata": {},
   "outputs": [
    {
     "name": "stdout",
     "output_type": "stream",
     "text": [
      "TSP with 20 nodes.  Do assert: False\n",
      "{'Total': 1364873, 'Trainable': 1364873}\n",
      "Distributed: False\n",
      "\n",
      "\n",
      "\n",
      "| ********************* Training epoch 0 ********************* |\n",
      "Training with actor lr=1.000e-04 critic lr=3.000e-05 for run run_name_20221212T102301\n"
     ]
    },
    {
     "name": "stderr",
     "output_type": "stream",
     "text": [
      "/home/jiaman/anaconda3/lib/python3.8/site-packages/torch/cuda/__init__.py:497: UserWarning: Can't initialize NVML\n",
      "  warnings.warn(\"Can't initialize NVML\")\n",
      "training:   0%|                    | 0/1200 [00:00<?, ?it/s]"
     ]
    },
    {
     "name": "stdout",
     "output_type": "stream",
     "text": [
      "128 instances initialized.\n"
     ]
    },
    {
     "name": "stderr",
     "output_type": "stream",
     "text": [
      "training: 100%|████████████████████| 1200/1200 [06:41<00:00,  2.99it/s]"
     ]
    },
    {
     "name": "stdout",
     "output_type": "stream",
     "text": [
      "Saving model and state...\n",
      "\n",
      "Inference with x1 augments...\n"
     ]
    },
    {
     "name": "stderr",
     "output_type": "stream",
     "text": [
      "\n",
      "rollout:   1%|▎                   | 13/1000 [00:00<00:07, 128.61it/s]"
     ]
    },
    {
     "name": "stdout",
     "output_type": "stream",
     "text": [
      "10 instances initialized.\n"
     ]
    },
    {
     "name": "stderr",
     "output_type": "stream",
     "text": [
      "rollout: 100%|████████████████████| 1000/1000 [00:07<00:00, 140.25it/s]"
     ]
    },
    {
     "name": "stdout",
     "output_type": "stream",
     "text": [
      "\n",
      " ------------------------------------------------------------\n",
      "         Avg total reward:          2.467678   +- 0.164982  \n",
      "          Avg step reward:          0.002468   +- 0.011368  \n",
      "------------------------------------------------------------\n",
      "           Avg init cost:           10.066249  +- 0.309449  \n",
      "    Avg cost after T=500 steps:     9.877872   +- 0.484421  \n",
      "    Avg cost after T=1000 steps:    9.931221   +- 0.452398  \n",
      "------------------------------------------------------------\n",
      "  Avg best cost after T=500 steps:  7.865211   +- 0.226663  \n",
      " Avg best cost after T=1000 steps:  7.598572   +- 0.244007  \n",
      "        Avg final best cost:        7.598572   +- 0.244007  \n",
      "------------------------------------------------------------\n",
      "           Avg used time:           0.713554s\n",
      "------------------------------------------------------------ \n",
      "\n",
      "\n",
      "\n",
      "\n",
      "| ********************* Training epoch 1 ********************* |\n",
      "Training with actor lr=9.850e-05 critic lr=2.955e-05 for run run_name_20221212T102301\n"
     ]
    },
    {
     "name": "stderr",
     "output_type": "stream",
     "text": [
      "\n",
      "training:   0%|                    | 0/1200 [00:00<?, ?it/s]"
     ]
    },
    {
     "name": "stdout",
     "output_type": "stream",
     "text": [
      "128 instances initialized.\n"
     ]
    },
    {
     "name": "stderr",
     "output_type": "stream",
     "text": [
      "training: 100%|████████████████████| 1200/1200 [06:43<00:00,  2.97it/s]"
     ]
    },
    {
     "name": "stdout",
     "output_type": "stream",
     "text": [
      "Saving model and state...\n",
      "\n",
      "Inference with x1 augments...\n"
     ]
    },
    {
     "name": "stderr",
     "output_type": "stream",
     "text": [
      "\n",
      "rollout:   1%|▎                   | 14/1000 [00:00<00:07, 137.07it/s]"
     ]
    },
    {
     "name": "stdout",
     "output_type": "stream",
     "text": [
      "10 instances initialized.\n"
     ]
    },
    {
     "name": "stderr",
     "output_type": "stream",
     "text": [
      "rollout: 100%|████████████████████| 1000/1000 [00:07<00:00, 141.58it/s]"
     ]
    },
    {
     "name": "stdout",
     "output_type": "stream",
     "text": [
      "\n",
      " ------------------------------------------------------------\n",
      "         Avg total reward:          2.963000   +- 0.346623  \n",
      "          Avg step reward:          0.002963   +- 0.011992  \n",
      "------------------------------------------------------------\n",
      "           Avg init cost:           10.461775  +- 0.389780  \n",
      "    Avg cost after T=500 steps:     10.499338  +- 0.347235  \n",
      "    Avg cost after T=1000 steps:    10.611096  +- 0.485545  \n",
      "------------------------------------------------------------\n",
      "  Avg best cost after T=500 steps:  7.843834   +- 0.303832  \n",
      " Avg best cost after T=1000 steps:  7.498776   +- 0.245014  \n",
      "        Avg final best cost:        7.498776   +- 0.245014  \n",
      "------------------------------------------------------------\n",
      "           Avg used time:           0.706886s\n",
      "------------------------------------------------------------ \n",
      "\n",
      "\n",
      "\n",
      "\n",
      "| ********************* Training epoch 2 ********************* |\n",
      "Training with actor lr=9.702e-05 critic lr=2.911e-05 for run run_name_20221212T102301\n"
     ]
    },
    {
     "name": "stderr",
     "output_type": "stream",
     "text": [
      "\n",
      "training:   0%|                    | 0/1200 [00:00<?, ?it/s]"
     ]
    },
    {
     "name": "stdout",
     "output_type": "stream",
     "text": [
      "128 instances initialized.\n"
     ]
    },
    {
     "name": "stderr",
     "output_type": "stream",
     "text": [
      "training: 100%|████████████████████| 1200/1200 [06:48<00:00,  2.93it/s]"
     ]
    },
    {
     "name": "stdout",
     "output_type": "stream",
     "text": [
      "Saving model and state...\n",
      "\n",
      "Inference with x1 augments...\n"
     ]
    },
    {
     "name": "stderr",
     "output_type": "stream",
     "text": [
      "\n",
      "rollout:   1%|▎                   | 14/1000 [00:00<00:07, 136.75it/s]"
     ]
    },
    {
     "name": "stdout",
     "output_type": "stream",
     "text": [
      "10 instances initialized.\n"
     ]
    },
    {
     "name": "stderr",
     "output_type": "stream",
     "text": [
      "rollout: 100%|████████████████████| 1000/1000 [00:07<00:00, 141.93it/s]"
     ]
    },
    {
     "name": "stdout",
     "output_type": "stream",
     "text": [
      "\n",
      " ------------------------------------------------------------\n",
      "         Avg total reward:          2.620272   +- 0.229661  \n",
      "          Avg step reward:          0.002620   +- 0.011718  \n",
      "------------------------------------------------------------\n",
      "           Avg init cost:           10.379028  +- 0.312299  \n",
      "    Avg cost after T=500 steps:     10.875911  +- 0.418911  \n",
      "    Avg cost after T=1000 steps:    10.485417  +- 0.403837  \n",
      "------------------------------------------------------------\n",
      "  Avg best cost after T=500 steps:  7.941434   +- 0.224580  \n",
      " Avg best cost after T=1000 steps:  7.758756   +- 0.197349  \n",
      "        Avg final best cost:        7.758756   +- 0.197349  \n",
      "------------------------------------------------------------\n",
      "           Avg used time:           0.705122s\n",
      "------------------------------------------------------------ \n",
      "\n",
      "\n",
      "\n",
      "\n",
      "| ********************* Training epoch 3 ********************* |\n",
      "Training with actor lr=9.557e-05 critic lr=2.867e-05 for run run_name_20221212T102301\n"
     ]
    },
    {
     "name": "stderr",
     "output_type": "stream",
     "text": [
      "\n",
      "training:   0%|                    | 0/1200 [00:00<?, ?it/s]"
     ]
    },
    {
     "name": "stdout",
     "output_type": "stream",
     "text": [
      "128 instances initialized.\n"
     ]
    },
    {
     "name": "stderr",
     "output_type": "stream",
     "text": [
      "training: 100%|████████████████████| 1200/1200 [06:47<00:00,  2.94it/s]"
     ]
    },
    {
     "name": "stdout",
     "output_type": "stream",
     "text": [
      "Saving model and state...\n",
      "\n",
      "Inference with x1 augments...\n"
     ]
    },
    {
     "name": "stderr",
     "output_type": "stream",
     "text": [
      "\n",
      "rollout:   1%|▎                   | 14/1000 [00:00<00:07, 135.51it/s]"
     ]
    },
    {
     "name": "stdout",
     "output_type": "stream",
     "text": [
      "10 instances initialized.\n"
     ]
    },
    {
     "name": "stderr",
     "output_type": "stream",
     "text": [
      "rollout: 100%|████████████████████| 1000/1000 [00:07<00:00, 140.57it/s]"
     ]
    },
    {
     "name": "stdout",
     "output_type": "stream",
     "text": [
      "\n",
      " ------------------------------------------------------------\n",
      "         Avg total reward:          2.695885   +- 0.365947  \n",
      "          Avg step reward:          0.002696   +- 0.011817  \n",
      "------------------------------------------------------------\n",
      "           Avg init cost:           10.073918  +- 0.486697  \n",
      "    Avg cost after T=500 steps:     10.415712  +- 0.530473  \n",
      "    Avg cost after T=1000 steps:    10.543493  +- 0.337404  \n",
      "------------------------------------------------------------\n",
      "  Avg best cost after T=500 steps:  7.660803   +- 0.225601  \n",
      " Avg best cost after T=1000 steps:  7.378032   +- 0.201854  \n",
      "        Avg final best cost:        7.378033   +- 0.201854  \n",
      "------------------------------------------------------------\n",
      "           Avg used time:           0.711958s\n",
      "------------------------------------------------------------ \n",
      "\n",
      "\n",
      "\n",
      "\n",
      "| ********************* Training epoch 4 ********************* |\n",
      "Training with actor lr=9.413e-05 critic lr=2.824e-05 for run run_name_20221212T102301\n"
     ]
    },
    {
     "name": "stderr",
     "output_type": "stream",
     "text": [
      "\n",
      "training:   0%|                    | 0/1200 [00:00<?, ?it/s]"
     ]
    },
    {
     "name": "stdout",
     "output_type": "stream",
     "text": [
      "128 instances initialized.\n"
     ]
    },
    {
     "name": "stderr",
     "output_type": "stream",
     "text": [
      "training: 100%|████████████████████| 1200/1200 [06:48<00:00,  2.94it/s]"
     ]
    },
    {
     "name": "stdout",
     "output_type": "stream",
     "text": [
      "Saving model and state...\n",
      "\n",
      "Inference with x1 augments...\n"
     ]
    },
    {
     "name": "stderr",
     "output_type": "stream",
     "text": [
      "\n",
      "rollout:   1%|▎                   | 14/1000 [00:00<00:07, 135.37it/s]"
     ]
    },
    {
     "name": "stdout",
     "output_type": "stream",
     "text": [
      "10 instances initialized.\n"
     ]
    },
    {
     "name": "stderr",
     "output_type": "stream",
     "text": [
      "rollout: 100%|████████████████████| 1000/1000 [00:07<00:00, 142.15it/s]"
     ]
    },
    {
     "name": "stdout",
     "output_type": "stream",
     "text": [
      "\n",
      " ------------------------------------------------------------\n",
      "         Avg total reward:          2.291670   +- 0.213738  \n",
      "          Avg step reward:          0.002292   +- 0.010487  \n",
      "------------------------------------------------------------\n",
      "           Avg init cost:           10.021561  +- 0.350533  \n",
      "    Avg cost after T=500 steps:     9.759122   +- 0.335819  \n",
      "    Avg cost after T=1000 steps:    10.317411  +- 0.486383  \n",
      "------------------------------------------------------------\n",
      "  Avg best cost after T=500 steps:  7.777388   +- 0.280058  \n",
      " Avg best cost after T=1000 steps:  7.729890   +- 0.277348  \n",
      "        Avg final best cost:        7.729890   +- 0.277348  \n",
      "------------------------------------------------------------\n",
      "           Avg used time:           0.704146s\n",
      "------------------------------------------------------------ \n",
      "\n",
      "\n",
      "\n",
      "\n",
      "| ********************* Training epoch 5 ********************* |\n",
      "Training with actor lr=9.272e-05 critic lr=2.782e-05 for run run_name_20221212T102301\n"
     ]
    },
    {
     "name": "stderr",
     "output_type": "stream",
     "text": [
      "\n",
      "training:   0%|                    | 0/1200 [00:00<?, ?it/s]"
     ]
    },
    {
     "name": "stdout",
     "output_type": "stream",
     "text": [
      "128 instances initialized.\n"
     ]
    },
    {
     "name": "stderr",
     "output_type": "stream",
     "text": [
      "training: 100%|████████████████████| 1200/1200 [06:48<00:00,  2.94it/s]"
     ]
    },
    {
     "name": "stdout",
     "output_type": "stream",
     "text": [
      "Saving model and state...\n",
      "\n",
      "Inference with x1 augments...\n"
     ]
    },
    {
     "name": "stderr",
     "output_type": "stream",
     "text": [
      "\n",
      "rollout:   1%|▎                   | 14/1000 [00:00<00:07, 136.24it/s]"
     ]
    },
    {
     "name": "stdout",
     "output_type": "stream",
     "text": [
      "10 instances initialized.\n"
     ]
    },
    {
     "name": "stderr",
     "output_type": "stream",
     "text": [
      "rollout: 100%|████████████████████| 1000/1000 [00:07<00:00, 141.17it/s]"
     ]
    },
    {
     "name": "stdout",
     "output_type": "stream",
     "text": [
      "\n",
      " ------------------------------------------------------------\n",
      "         Avg total reward:          2.837865   +- 0.330433  \n",
      "          Avg step reward:          0.002838   +- 0.011111  \n",
      "------------------------------------------------------------\n",
      "           Avg init cost:           10.318175  +- 0.440588  \n",
      "    Avg cost after T=500 steps:     10.287251  +- 0.374964  \n",
      "    Avg cost after T=1000 steps:    10.189354  +- 0.340172  \n",
      "------------------------------------------------------------\n",
      "  Avg best cost after T=500 steps:  7.654149   +- 0.253961  \n",
      " Avg best cost after T=1000 steps:  7.480310   +- 0.207406  \n",
      "        Avg final best cost:        7.480310   +- 0.207406  \n",
      "------------------------------------------------------------\n",
      "           Avg used time:           0.709040s\n",
      "------------------------------------------------------------ \n",
      "\n",
      "\n",
      "\n",
      "\n",
      "| ********************* Training epoch 6 ********************* |\n",
      "Training with actor lr=9.133e-05 critic lr=2.740e-05 for run run_name_20221212T102301\n"
     ]
    },
    {
     "name": "stderr",
     "output_type": "stream",
     "text": [
      "\n",
      "training:   0%|                    | 0/1200 [00:00<?, ?it/s]"
     ]
    },
    {
     "name": "stdout",
     "output_type": "stream",
     "text": [
      "128 instances initialized.\n"
     ]
    },
    {
     "name": "stderr",
     "output_type": "stream",
     "text": [
      "training: 100%|████████████████████| 1200/1200 [07:27<00:00,  2.68it/s]"
     ]
    },
    {
     "name": "stdout",
     "output_type": "stream",
     "text": [
      "Saving model and state...\n",
      "\n",
      "Inference with x1 augments...\n"
     ]
    },
    {
     "name": "stderr",
     "output_type": "stream",
     "text": [
      "\n",
      "rollout:   1%|▏                   | 9/1000 [00:00<00:11, 87.26it/s]"
     ]
    },
    {
     "name": "stdout",
     "output_type": "stream",
     "text": [
      "10 instances initialized.\n"
     ]
    },
    {
     "name": "stderr",
     "output_type": "stream",
     "text": [
      "rollout: 100%|████████████████████| 1000/1000 [00:07<00:00, 139.84it/s]"
     ]
    },
    {
     "name": "stdout",
     "output_type": "stream",
     "text": [
      "\n",
      " ------------------------------------------------------------\n",
      "         Avg total reward:          2.419371   +- 0.194082  \n",
      "          Avg step reward:          0.002419   +- 0.010006  \n",
      "------------------------------------------------------------\n",
      "           Avg init cost:           9.985191   +- 0.354140  \n",
      "    Avg cost after T=500 steps:     11.137024  +- 0.391130  \n",
      "    Avg cost after T=1000 steps:    11.048115  +- 0.496050  \n",
      "------------------------------------------------------------\n",
      "  Avg best cost after T=500 steps:  7.735011   +- 0.252814  \n",
      " Avg best cost after T=1000 steps:  7.565820   +- 0.246815  \n",
      "        Avg final best cost:        7.565820   +- 0.246815  \n",
      "------------------------------------------------------------\n",
      "           Avg used time:           0.715817s\n",
      "------------------------------------------------------------ \n",
      "\n",
      "\n",
      "\n",
      "\n",
      "| ********************* Training epoch 7 ********************* |\n",
      "Training with actor lr=8.996e-05 critic lr=2.699e-05 for run run_name_20221212T102301\n"
     ]
    },
    {
     "name": "stderr",
     "output_type": "stream",
     "text": [
      "\n",
      "training:   0%|                    | 0/1200 [00:00<?, ?it/s]"
     ]
    },
    {
     "name": "stdout",
     "output_type": "stream",
     "text": [
      "128 instances initialized.\n"
     ]
    },
    {
     "name": "stderr",
     "output_type": "stream",
     "text": [
      "training: 100%|████████████████████| 1200/1200 [06:51<00:00,  2.92it/s]"
     ]
    },
    {
     "name": "stdout",
     "output_type": "stream",
     "text": [
      "Saving model and state...\n",
      "\n",
      "Inference with x1 augments...\n"
     ]
    },
    {
     "name": "stderr",
     "output_type": "stream",
     "text": [
      "\n",
      "rollout:   1%|▎                   | 14/1000 [00:00<00:07, 135.57it/s]"
     ]
    },
    {
     "name": "stdout",
     "output_type": "stream",
     "text": [
      "10 instances initialized.\n"
     ]
    },
    {
     "name": "stderr",
     "output_type": "stream",
     "text": [
      "rollout: 100%|████████████████████| 1000/1000 [00:07<00:00, 139.85it/s]"
     ]
    },
    {
     "name": "stdout",
     "output_type": "stream",
     "text": [
      "\n",
      " ------------------------------------------------------------\n",
      "         Avg total reward:          3.309762   +- 0.278225  \n",
      "          Avg step reward:          0.003310   +- 0.012950  \n",
      "------------------------------------------------------------\n",
      "           Avg init cost:           10.684702  +- 0.383825  \n",
      "    Avg cost after T=500 steps:     10.465625  +- 0.391422  \n",
      "    Avg cost after T=1000 steps:    10.413708  +- 0.403957  \n",
      "------------------------------------------------------------\n",
      "  Avg best cost after T=500 steps:  7.662297   +- 0.320324  \n",
      " Avg best cost after T=1000 steps:  7.374939   +- 0.228471  \n",
      "        Avg final best cost:        7.374938   +- 0.228471  \n",
      "------------------------------------------------------------\n",
      "           Avg used time:           0.715754s\n",
      "------------------------------------------------------------ \n",
      "\n",
      "\n",
      "\n",
      "\n",
      "| ********************* Training epoch 8 ********************* |\n",
      "Training with actor lr=8.861e-05 critic lr=2.658e-05 for run run_name_20221212T102301\n"
     ]
    },
    {
     "name": "stderr",
     "output_type": "stream",
     "text": [
      "\n",
      "training:   0%|                    | 0/1200 [00:00<?, ?it/s]"
     ]
    },
    {
     "name": "stdout",
     "output_type": "stream",
     "text": [
      "128 instances initialized.\n"
     ]
    },
    {
     "name": "stderr",
     "output_type": "stream",
     "text": [
      "training: 100%|████████████████████| 1200/1200 [06:52<00:00,  2.91it/s]"
     ]
    },
    {
     "name": "stdout",
     "output_type": "stream",
     "text": [
      "Saving model and state...\n",
      "\n",
      "Inference with x1 augments...\n"
     ]
    },
    {
     "name": "stderr",
     "output_type": "stream",
     "text": [
      "\n",
      "rollout:   1%|▎                   | 14/1000 [00:00<00:07, 135.65it/s]"
     ]
    },
    {
     "name": "stdout",
     "output_type": "stream",
     "text": [
      "10 instances initialized.\n"
     ]
    },
    {
     "name": "stderr",
     "output_type": "stream",
     "text": [
      "rollout: 100%|████████████████████| 1000/1000 [00:07<00:00, 140.69it/s]"
     ]
    },
    {
     "name": "stdout",
     "output_type": "stream",
     "text": [
      "\n",
      " ------------------------------------------------------------\n",
      "         Avg total reward:          2.830299   +- 0.240758  \n",
      "          Avg step reward:          0.002830   +- 0.010992  \n",
      "------------------------------------------------------------\n",
      "           Avg init cost:           10.464057  +- 0.398999  \n",
      "    Avg cost after T=500 steps:     10.705153  +- 0.534274  \n",
      "    Avg cost after T=1000 steps:    10.373947  +- 0.244980  \n",
      "------------------------------------------------------------\n",
      "  Avg best cost after T=500 steps:  7.808732   +- 0.221587  \n",
      " Avg best cost after T=1000 steps:  7.633759   +- 0.210598  \n",
      "        Avg final best cost:        7.633758   +- 0.210598  \n",
      "------------------------------------------------------------\n",
      "           Avg used time:           0.711450s\n",
      "------------------------------------------------------------ \n",
      "\n",
      "\n",
      "\n",
      "\n",
      "| ********************* Training epoch 9 ********************* |\n",
      "Training with actor lr=8.728e-05 critic lr=2.618e-05 for run run_name_20221212T102301\n"
     ]
    },
    {
     "name": "stderr",
     "output_type": "stream",
     "text": [
      "\n",
      "training:   0%|                    | 0/1200 [00:00<?, ?it/s]"
     ]
    },
    {
     "name": "stdout",
     "output_type": "stream",
     "text": [
      "128 instances initialized.\n"
     ]
    },
    {
     "name": "stderr",
     "output_type": "stream",
     "text": [
      "training: 100%|████████████████████| 1200/1200 [07:06<00:00,  2.81it/s]"
     ]
    },
    {
     "name": "stdout",
     "output_type": "stream",
     "text": [
      "Saving model and state...\n",
      "\n",
      "Inference with x1 augments...\n"
     ]
    },
    {
     "name": "stderr",
     "output_type": "stream",
     "text": [
      "\n",
      "rollout:   1%|▏                   | 10/1000 [00:00<00:10, 98.08it/s]"
     ]
    },
    {
     "name": "stdout",
     "output_type": "stream",
     "text": [
      "10 instances initialized.\n"
     ]
    },
    {
     "name": "stderr",
     "output_type": "stream",
     "text": [
      "rollout: 100%|████████████████████| 1000/1000 [00:12<00:00, 82.01it/s]"
     ]
    },
    {
     "name": "stdout",
     "output_type": "stream",
     "text": [
      "\n",
      " ------------------------------------------------------------\n",
      "         Avg total reward:          3.606869   +- 0.360052  \n",
      "          Avg step reward:          0.003607   +- 0.013641  \n",
      "------------------------------------------------------------\n",
      "           Avg init cost:           10.885472  +- 0.367629  \n",
      "    Avg cost after T=500 steps:     10.101429  +- 0.417798  \n",
      "    Avg cost after T=1000 steps:    10.710955  +- 0.328439  \n",
      "------------------------------------------------------------\n",
      "  Avg best cost after T=500 steps:  7.584353   +- 0.244486  \n",
      " Avg best cost after T=1000 steps:  7.278603   +- 0.167055  \n",
      "        Avg final best cost:        7.278603   +- 0.167055  \n",
      "------------------------------------------------------------\n",
      "           Avg used time:           1.220249s\n",
      "------------------------------------------------------------ \n",
      "\n",
      "\n",
      "\n",
      "\n",
      "| ******************** Training epoch 10 ********************* |\n",
      "Training with actor lr=8.597e-05 critic lr=2.579e-05 for run run_name_20221212T102301\n"
     ]
    },
    {
     "name": "stderr",
     "output_type": "stream",
     "text": [
      "\n",
      "training:   0%|                    | 0/1200 [00:00<?, ?it/s]"
     ]
    },
    {
     "name": "stdout",
     "output_type": "stream",
     "text": [
      "128 instances initialized.\n"
     ]
    },
    {
     "name": "stderr",
     "output_type": "stream",
     "text": [
      "training: 100%|████████████████████| 1200/1200 [09:23<00:00,  2.13it/s]"
     ]
    },
    {
     "name": "stdout",
     "output_type": "stream",
     "text": [
      "Saving model and state...\n",
      "\n",
      "Inference with x1 augments...\n"
     ]
    },
    {
     "name": "stderr",
     "output_type": "stream",
     "text": [
      "\n",
      "rollout:   1%|▏                   | 10/1000 [00:00<00:10, 97.48it/s]"
     ]
    },
    {
     "name": "stdout",
     "output_type": "stream",
     "text": [
      "10 instances initialized.\n"
     ]
    },
    {
     "name": "stderr",
     "output_type": "stream",
     "text": [
      "rollout: 100%|████████████████████| 1000/1000 [00:10<00:00, 97.21it/s]"
     ]
    },
    {
     "name": "stdout",
     "output_type": "stream",
     "text": [
      "\n",
      " ------------------------------------------------------------\n",
      "         Avg total reward:          2.635792   +- 0.260491  \n",
      "          Avg step reward:          0.002636   +- 0.011752  \n",
      "------------------------------------------------------------\n",
      "           Avg init cost:           10.389643  +- 0.352701  \n",
      "    Avg cost after T=500 steps:     10.698253  +- 0.305795  \n",
      "    Avg cost after T=1000 steps:    10.830046  +- 0.497320  \n",
      "------------------------------------------------------------\n",
      "  Avg best cost after T=500 steps:  7.909332   +- 0.283272  \n",
      " Avg best cost after T=1000 steps:  7.753850   +- 0.295427  \n",
      "        Avg final best cost:        7.753850   +- 0.295427  \n",
      "------------------------------------------------------------\n",
      "           Avg used time:           1.029703s\n",
      "------------------------------------------------------------ \n",
      "\n",
      "\n",
      "\n",
      "\n",
      "| ******************** Training epoch 11 ********************* |\n",
      "Training with actor lr=8.468e-05 critic lr=2.541e-05 for run run_name_20221212T102301\n"
     ]
    },
    {
     "name": "stderr",
     "output_type": "stream",
     "text": [
      "\n",
      "training:   0%|                    | 0/1200 [00:00<?, ?it/s]"
     ]
    },
    {
     "name": "stdout",
     "output_type": "stream",
     "text": [
      "128 instances initialized.\n"
     ]
    },
    {
     "name": "stderr",
     "output_type": "stream",
     "text": [
      "training: 100%|████████████████████| 1200/1200 [09:13<00:00,  2.17it/s]"
     ]
    },
    {
     "name": "stdout",
     "output_type": "stream",
     "text": [
      "Saving model and state...\n",
      "\n",
      "Inference with x1 augments...\n"
     ]
    },
    {
     "name": "stderr",
     "output_type": "stream",
     "text": [
      "\n",
      "rollout:   1%|▏                   | 10/1000 [00:00<00:10, 96.13it/s]"
     ]
    },
    {
     "name": "stdout",
     "output_type": "stream",
     "text": [
      "10 instances initialized.\n"
     ]
    },
    {
     "name": "stderr",
     "output_type": "stream",
     "text": [
      "rollout: 100%|████████████████████| 1000/1000 [00:09<00:00, 102.07it/s]"
     ]
    },
    {
     "name": "stdout",
     "output_type": "stream",
     "text": [
      "\n",
      " ------------------------------------------------------------\n",
      "         Avg total reward:          2.297688   +- 0.233482  \n",
      "          Avg step reward:          0.002298   +- 0.010386  \n",
      "------------------------------------------------------------\n",
      "           Avg init cost:           9.944084   +- 0.380519  \n",
      "    Avg cost after T=500 steps:     10.701069  +- 0.420827  \n",
      "    Avg cost after T=1000 steps:    10.758448  +- 0.415295  \n",
      "------------------------------------------------------------\n",
      "  Avg best cost after T=500 steps:  8.010229   +- 0.223354  \n",
      " Avg best cost after T=1000 steps:  7.646397   +- 0.252306  \n",
      "        Avg final best cost:        7.646396   +- 0.252306  \n",
      "------------------------------------------------------------\n",
      "           Avg used time:           0.980913s\n",
      "------------------------------------------------------------ \n",
      "\n",
      "\n",
      "\n",
      "\n",
      "| ******************** Training epoch 12 ********************* |\n",
      "Training with actor lr=8.341e-05 critic lr=2.502e-05 for run run_name_20221212T102301\n"
     ]
    },
    {
     "name": "stderr",
     "output_type": "stream",
     "text": [
      "\n",
      "training:   0%|                    | 0/1200 [00:00<?, ?it/s]"
     ]
    },
    {
     "name": "stdout",
     "output_type": "stream",
     "text": [
      "128 instances initialized.\n"
     ]
    },
    {
     "name": "stderr",
     "output_type": "stream",
     "text": [
      "training: 100%|████████████████████| 1200/1200 [09:14<00:00,  2.16it/s]"
     ]
    },
    {
     "name": "stdout",
     "output_type": "stream",
     "text": [
      "Saving model and state...\n",
      "\n",
      "Inference with x1 augments...\n"
     ]
    },
    {
     "name": "stderr",
     "output_type": "stream",
     "text": [
      "\n",
      "rollout:   1%|▏                   | 11/1000 [00:00<00:09, 102.40it/s]"
     ]
    },
    {
     "name": "stdout",
     "output_type": "stream",
     "text": [
      "10 instances initialized.\n"
     ]
    },
    {
     "name": "stderr",
     "output_type": "stream",
     "text": [
      "rollout: 100%|████████████████████| 1000/1000 [00:09<00:00, 103.76it/s]"
     ]
    },
    {
     "name": "stdout",
     "output_type": "stream",
     "text": [
      "\n",
      " ------------------------------------------------------------\n",
      "         Avg total reward:          3.546305   +- 0.395855  \n",
      "          Avg step reward:          0.003546   +- 0.013220  \n",
      "------------------------------------------------------------\n",
      "           Avg init cost:           11.125219  +- 0.528373  \n",
      "    Avg cost after T=500 steps:     10.108236  +- 0.321240  \n",
      "    Avg cost after T=1000 steps:    10.535493  +- 0.507350  \n",
      "------------------------------------------------------------\n",
      "  Avg best cost after T=500 steps:  7.878348   +- 0.185813  \n",
      " Avg best cost after T=1000 steps:  7.578916   +- 0.198575  \n",
      "        Avg final best cost:        7.578915   +- 0.198575  \n",
      "------------------------------------------------------------\n",
      "           Avg used time:           0.964845s\n",
      "------------------------------------------------------------ \n",
      "\n",
      "\n",
      "\n",
      "\n",
      "| ******************** Training epoch 13 ********************* |\n",
      "Training with actor lr=8.216e-05 critic lr=2.465e-05 for run run_name_20221212T102301\n"
     ]
    },
    {
     "name": "stderr",
     "output_type": "stream",
     "text": [
      "\n",
      "training:   0%|                    | 0/1200 [00:00<?, ?it/s]"
     ]
    },
    {
     "name": "stdout",
     "output_type": "stream",
     "text": [
      "128 instances initialized.\n"
     ]
    },
    {
     "name": "stderr",
     "output_type": "stream",
     "text": [
      "training: 100%|████████████████████| 1200/1200 [09:11<00:00,  2.18it/s]"
     ]
    },
    {
     "name": "stdout",
     "output_type": "stream",
     "text": [
      "Saving model and state...\n",
      "\n",
      "Inference with x1 augments...\n"
     ]
    },
    {
     "name": "stderr",
     "output_type": "stream",
     "text": [
      "\n",
      "rollout:   1%|▏                   | 11/1000 [00:00<00:09, 101.53it/s]"
     ]
    },
    {
     "name": "stdout",
     "output_type": "stream",
     "text": [
      "10 instances initialized.\n"
     ]
    },
    {
     "name": "stderr",
     "output_type": "stream",
     "text": [
      "rollout: 100%|████████████████████| 1000/1000 [00:10<00:00, 91.73it/s]"
     ]
    },
    {
     "name": "stdout",
     "output_type": "stream",
     "text": [
      "\n",
      " ------------------------------------------------------------\n",
      "         Avg total reward:          2.649500   +- 0.334948  \n",
      "          Avg step reward:          0.002650   +- 0.010937  \n",
      "------------------------------------------------------------\n",
      "           Avg init cost:           10.269934  +- 0.497770  \n",
      "    Avg cost after T=500 steps:     10.772740  +- 0.425181  \n",
      "    Avg cost after T=1000 steps:    10.678729  +- 0.471532  \n",
      "------------------------------------------------------------\n",
      "  Avg best cost after T=500 steps:  8.055826   +- 0.301483  \n",
      " Avg best cost after T=1000 steps:  7.620435   +- 0.305690  \n",
      "        Avg final best cost:        7.620434   +- 0.305690  \n",
      "------------------------------------------------------------\n",
      "           Avg used time:           1.091212s\n",
      "------------------------------------------------------------ \n",
      "\n",
      "\n",
      "\n",
      "\n",
      "| ******************** Training epoch 14 ********************* |\n",
      "Training with actor lr=8.093e-05 critic lr=2.428e-05 for run run_name_20221212T102301\n"
     ]
    },
    {
     "name": "stderr",
     "output_type": "stream",
     "text": [
      "\n",
      "training:   0%|                    | 0/1200 [00:00<?, ?it/s]"
     ]
    },
    {
     "name": "stdout",
     "output_type": "stream",
     "text": [
      "128 instances initialized.\n"
     ]
    },
    {
     "name": "stderr",
     "output_type": "stream",
     "text": [
      "training: 100%|████████████████████| 1200/1200 [09:18<00:00,  2.15it/s]"
     ]
    },
    {
     "name": "stdout",
     "output_type": "stream",
     "text": [
      "Saving model and state...\n",
      "\n",
      "Inference with x1 augments...\n"
     ]
    },
    {
     "name": "stderr",
     "output_type": "stream",
     "text": [
      "\n",
      "rollout:   1%|▏                   | 11/1000 [00:00<00:09, 100.52it/s]"
     ]
    },
    {
     "name": "stdout",
     "output_type": "stream",
     "text": [
      "10 instances initialized.\n"
     ]
    },
    {
     "name": "stderr",
     "output_type": "stream",
     "text": [
      "rollout: 100%|████████████████████| 1000/1000 [00:09<00:00, 102.02it/s]"
     ]
    },
    {
     "name": "stdout",
     "output_type": "stream",
     "text": [
      "\n",
      " ------------------------------------------------------------\n",
      "         Avg total reward:          2.444851   +- 0.387570  \n",
      "          Avg step reward:          0.002445   +- 0.010021  \n",
      "------------------------------------------------------------\n",
      "           Avg init cost:           10.081781  +- 0.538468  \n",
      "    Avg cost after T=500 steps:     10.790418  +- 0.517471  \n",
      "    Avg cost after T=1000 steps:    10.023465  +- 0.528075  \n",
      "------------------------------------------------------------\n",
      "  Avg best cost after T=500 steps:  8.165779   +- 0.269307  \n",
      " Avg best cost after T=1000 steps:  7.636929   +- 0.278841  \n",
      "        Avg final best cost:        7.636930   +- 0.278841  \n",
      "------------------------------------------------------------\n",
      "           Avg used time:           0.981423s\n",
      "------------------------------------------------------------ \n",
      "\n",
      "\n",
      "\n",
      "\n",
      "| ******************** Training epoch 15 ********************* |\n",
      "Training with actor lr=7.972e-05 critic lr=2.391e-05 for run run_name_20221212T102301\n"
     ]
    },
    {
     "name": "stderr",
     "output_type": "stream",
     "text": [
      "\n",
      "training:   0%|                    | 0/1200 [00:00<?, ?it/s]"
     ]
    },
    {
     "name": "stdout",
     "output_type": "stream",
     "text": [
      "128 instances initialized.\n"
     ]
    },
    {
     "name": "stderr",
     "output_type": "stream",
     "text": [
      "training: 100%|████████████████████| 1200/1200 [09:08<00:00,  2.19it/s]"
     ]
    },
    {
     "name": "stdout",
     "output_type": "stream",
     "text": [
      "Saving model and state...\n",
      "\n",
      "Inference with x1 augments...\n"
     ]
    },
    {
     "name": "stderr",
     "output_type": "stream",
     "text": [
      "\n",
      "rollout:   1%|▎                   | 14/1000 [00:00<00:07, 133.37it/s]"
     ]
    },
    {
     "name": "stdout",
     "output_type": "stream",
     "text": [
      "10 instances initialized.\n"
     ]
    },
    {
     "name": "stderr",
     "output_type": "stream",
     "text": [
      "rollout: 100%|████████████████████| 1000/1000 [00:07<00:00, 139.43it/s]"
     ]
    },
    {
     "name": "stdout",
     "output_type": "stream",
     "text": [
      "\n",
      " ------------------------------------------------------------\n",
      "         Avg total reward:          3.034344   +- 0.254699  \n",
      "          Avg step reward:          0.003034   +- 0.011488  \n",
      "------------------------------------------------------------\n",
      "           Avg init cost:           10.721646  +- 0.328555  \n",
      "    Avg cost after T=500 steps:     10.210754  +- 0.289574  \n",
      "    Avg cost after T=1000 steps:    10.400313  +- 0.370722  \n",
      "------------------------------------------------------------\n",
      "  Avg best cost after T=500 steps:  7.961054   +- 0.234678  \n",
      " Avg best cost after T=1000 steps:  7.687301   +- 0.214607  \n",
      "        Avg final best cost:        7.687301   +- 0.214607  \n",
      "------------------------------------------------------------\n",
      "           Avg used time:           0.717958s\n",
      "------------------------------------------------------------ \n",
      "\n",
      "\n",
      "\n",
      "\n",
      "| ******************** Training epoch 16 ********************* |\n",
      "Training with actor lr=7.852e-05 critic lr=2.356e-05 for run run_name_20221212T102301\n"
     ]
    },
    {
     "name": "stderr",
     "output_type": "stream",
     "text": [
      "\n",
      "training:   0%|                    | 0/1200 [00:00<?, ?it/s]"
     ]
    },
    {
     "name": "stdout",
     "output_type": "stream",
     "text": [
      "128 instances initialized.\n"
     ]
    },
    {
     "name": "stderr",
     "output_type": "stream",
     "text": [
      "training: 100%|████████████████████| 1200/1200 [06:58<00:00,  2.87it/s]"
     ]
    },
    {
     "name": "stdout",
     "output_type": "stream",
     "text": [
      "Saving model and state...\n",
      "\n",
      "Inference with x1 augments...\n"
     ]
    },
    {
     "name": "stderr",
     "output_type": "stream",
     "text": [
      "\n",
      "rollout:   1%|▎                   | 14/1000 [00:00<00:07, 131.37it/s]"
     ]
    },
    {
     "name": "stdout",
     "output_type": "stream",
     "text": [
      "10 instances initialized.\n"
     ]
    },
    {
     "name": "stderr",
     "output_type": "stream",
     "text": [
      "rollout: 100%|████████████████████| 1000/1000 [00:07<00:00, 139.73it/s]"
     ]
    },
    {
     "name": "stdout",
     "output_type": "stream",
     "text": [
      "\n",
      " ------------------------------------------------------------\n",
      "         Avg total reward:          2.771223   +- 0.386485  \n",
      "          Avg step reward:          0.002771   +- 0.010712  \n",
      "------------------------------------------------------------\n",
      "           Avg init cost:           10.484392  +- 0.552503  \n",
      "    Avg cost after T=500 steps:     10.886312  +- 0.387082  \n",
      "    Avg cost after T=1000 steps:    10.593374  +- 0.500412  \n",
      "------------------------------------------------------------\n",
      "  Avg best cost after T=500 steps:  7.805770   +- 0.244259  \n",
      " Avg best cost after T=1000 steps:  7.713170   +- 0.215676  \n",
      "        Avg final best cost:        7.713170   +- 0.215676  \n",
      "------------------------------------------------------------\n",
      "           Avg used time:           0.716437s\n",
      "------------------------------------------------------------ \n",
      "\n",
      "\n",
      "\n",
      "\n",
      "| ******************** Training epoch 17 ********************* |\n",
      "Training with actor lr=7.734e-05 critic lr=2.320e-05 for run run_name_20221212T102301\n"
     ]
    },
    {
     "name": "stderr",
     "output_type": "stream",
     "text": [
      "\n",
      "training:   0%|                    | 0/1200 [00:00<?, ?it/s]"
     ]
    },
    {
     "name": "stdout",
     "output_type": "stream",
     "text": [
      "128 instances initialized.\n"
     ]
    },
    {
     "name": "stderr",
     "output_type": "stream",
     "text": [
      "training: 100%|████████████████████| 1200/1200 [06:59<00:00,  2.86it/s]"
     ]
    },
    {
     "name": "stdout",
     "output_type": "stream",
     "text": [
      "Saving model and state...\n",
      "\n",
      "Inference with x1 augments...\n"
     ]
    },
    {
     "name": "stderr",
     "output_type": "stream",
     "text": [
      "\n",
      "rollout:   1%|▎                   | 14/1000 [00:00<00:07, 134.40it/s]"
     ]
    },
    {
     "name": "stdout",
     "output_type": "stream",
     "text": [
      "10 instances initialized.\n"
     ]
    },
    {
     "name": "stderr",
     "output_type": "stream",
     "text": [
      "rollout: 100%|████████████████████| 1000/1000 [00:07<00:00, 139.55it/s]"
     ]
    },
    {
     "name": "stdout",
     "output_type": "stream",
     "text": [
      "\n",
      " ------------------------------------------------------------\n",
      "         Avg total reward:          3.162299   +- 0.318718  \n",
      "          Avg step reward:          0.003162   +- 0.013135  \n",
      "------------------------------------------------------------\n",
      "           Avg init cost:           11.026729  +- 0.411926  \n",
      "    Avg cost after T=500 steps:     10.596210  +- 0.699092  \n",
      "    Avg cost after T=1000 steps:    10.344474  +- 0.439471  \n",
      "------------------------------------------------------------\n",
      "  Avg best cost after T=500 steps:  7.945653   +- 0.317402  \n",
      " Avg best cost after T=1000 steps:  7.864429   +- 0.288179  \n",
      "        Avg final best cost:        7.864429   +- 0.288179  \n",
      "------------------------------------------------------------\n",
      "           Avg used time:           0.717351s\n",
      "------------------------------------------------------------ \n",
      "\n",
      "\n",
      "\n",
      "\n",
      "| ******************** Training epoch 18 ********************* |\n",
      "Training with actor lr=7.618e-05 critic lr=2.285e-05 for run run_name_20221212T102301\n"
     ]
    },
    {
     "name": "stderr",
     "output_type": "stream",
     "text": [
      "\n",
      "training:   0%|                    | 0/1200 [00:00<?, ?it/s]"
     ]
    },
    {
     "name": "stdout",
     "output_type": "stream",
     "text": [
      "128 instances initialized.\n"
     ]
    },
    {
     "name": "stderr",
     "output_type": "stream",
     "text": [
      "training: 100%|████████████████████| 1200/1200 [06:59<00:00,  2.86it/s]"
     ]
    },
    {
     "name": "stdout",
     "output_type": "stream",
     "text": [
      "Saving model and state...\n",
      "\n",
      "Inference with x1 augments...\n"
     ]
    },
    {
     "name": "stderr",
     "output_type": "stream",
     "text": [
      "\n",
      "rollout:   1%|▎                   | 14/1000 [00:00<00:07, 130.41it/s]"
     ]
    },
    {
     "name": "stdout",
     "output_type": "stream",
     "text": [
      "10 instances initialized.\n"
     ]
    },
    {
     "name": "stderr",
     "output_type": "stream",
     "text": [
      "rollout: 100%|████████████████████| 1000/1000 [00:07<00:00, 138.73it/s]\n"
     ]
    },
    {
     "name": "stdout",
     "output_type": "stream",
     "text": [
      "\n",
      " ------------------------------------------------------------\n",
      "         Avg total reward:          2.816774   +- 0.263748  \n",
      "          Avg step reward:          0.002817   +- 0.011887  \n",
      "------------------------------------------------------------\n",
      "           Avg init cost:           10.388371  +- 0.493218  \n",
      "    Avg cost after T=500 steps:     10.185900  +- 0.482563  \n",
      "    Avg cost after T=1000 steps:    10.766737  +- 0.375921  \n",
      "------------------------------------------------------------\n",
      "  Avg best cost after T=500 steps:  7.948575   +- 0.253070  \n",
      " Avg best cost after T=1000 steps:  7.571597   +- 0.265747  \n",
      "        Avg final best cost:        7.571597   +- 0.265747  \n",
      "------------------------------------------------------------\n",
      "           Avg used time:           0.721668s\n",
      "------------------------------------------------------------ \n",
      "\n",
      "\n",
      "\n",
      "\n",
      "| ******************** Training epoch 19 ********************* |\n",
      "Training with actor lr=7.504e-05 critic lr=2.251e-05 for run run_name_20221212T102301\n"
     ]
    },
    {
     "name": "stderr",
     "output_type": "stream",
     "text": [
      "training:   0%|                    | 0/1200 [00:00<?, ?it/s]"
     ]
    },
    {
     "name": "stdout",
     "output_type": "stream",
     "text": [
      "128 instances initialized.\n"
     ]
    },
    {
     "name": "stderr",
     "output_type": "stream",
     "text": [
      "training: 100%|████████████████████| 1200/1200 [07:04<00:00,  2.83it/s]"
     ]
    },
    {
     "name": "stdout",
     "output_type": "stream",
     "text": [
      "Saving model and state...\n",
      "\n",
      "Inference with x1 augments...\n"
     ]
    },
    {
     "name": "stderr",
     "output_type": "stream",
     "text": [
      "\n",
      "rollout:   1%|▎                   | 14/1000 [00:00<00:07, 132.67it/s]"
     ]
    },
    {
     "name": "stdout",
     "output_type": "stream",
     "text": [
      "10 instances initialized.\n"
     ]
    },
    {
     "name": "stderr",
     "output_type": "stream",
     "text": [
      "rollout: 100%|████████████████████| 1000/1000 [00:07<00:00, 139.59it/s]"
     ]
    },
    {
     "name": "stdout",
     "output_type": "stream",
     "text": [
      "\n",
      " ------------------------------------------------------------\n",
      "         Avg total reward:          2.521253   +- 0.261130  \n",
      "          Avg step reward:          0.002521   +- 0.009937  \n",
      "------------------------------------------------------------\n",
      "           Avg init cost:           10.207095  +- 0.425643  \n",
      "    Avg cost after T=500 steps:     10.693107  +- 0.470177  \n",
      "    Avg cost after T=1000 steps:    10.392807  +- 0.434420  \n",
      "------------------------------------------------------------\n",
      "  Avg best cost after T=500 steps:  7.860846   +- 0.294233  \n",
      " Avg best cost after T=1000 steps:  7.685843   +- 0.272066  \n",
      "        Avg final best cost:        7.685842   +- 0.272066  \n",
      "------------------------------------------------------------\n",
      "           Avg used time:           0.717158s\n",
      "------------------------------------------------------------ \n",
      "\n",
      "\n",
      "\n",
      "\n",
      "| ******************** Training epoch 20 ********************* |\n",
      "Training with actor lr=7.391e-05 critic lr=2.217e-05 for run run_name_20221212T102301\n"
     ]
    },
    {
     "name": "stderr",
     "output_type": "stream",
     "text": [
      "\n",
      "training:   0%|                    | 0/1200 [00:00<?, ?it/s]"
     ]
    },
    {
     "name": "stdout",
     "output_type": "stream",
     "text": [
      "128 instances initialized.\n"
     ]
    },
    {
     "name": "stderr",
     "output_type": "stream",
     "text": [
      "training: 100%|████████████████████| 1200/1200 [07:08<00:00,  2.80it/s]"
     ]
    },
    {
     "name": "stdout",
     "output_type": "stream",
     "text": [
      "Saving model and state...\n",
      "\n",
      "Inference with x1 augments...\n"
     ]
    },
    {
     "name": "stderr",
     "output_type": "stream",
     "text": [
      "\n",
      "rollout:   1%|▎                   | 14/1000 [00:00<00:07, 130.55it/s]"
     ]
    },
    {
     "name": "stdout",
     "output_type": "stream",
     "text": [
      "10 instances initialized.\n"
     ]
    },
    {
     "name": "stderr",
     "output_type": "stream",
     "text": [
      "rollout: 100%|████████████████████| 1000/1000 [00:07<00:00, 136.25it/s]"
     ]
    },
    {
     "name": "stdout",
     "output_type": "stream",
     "text": [
      "\n",
      " ------------------------------------------------------------\n",
      "         Avg total reward:          2.466877   +- 0.419494  \n",
      "          Avg step reward:          0.002467   +- 0.011016  \n",
      "------------------------------------------------------------\n",
      "           Avg init cost:           9.965643   +- 0.560932  \n",
      "    Avg cost after T=500 steps:     10.385911  +- 0.500340  \n",
      "    Avg cost after T=1000 steps:    10.510178  +- 0.511838  \n",
      "------------------------------------------------------------\n",
      "  Avg best cost after T=500 steps:  8.005447   +- 0.272856  \n",
      " Avg best cost after T=1000 steps:  7.498766   +- 0.253042  \n",
      "        Avg final best cost:        7.498767   +- 0.253042  \n",
      "------------------------------------------------------------\n",
      "           Avg used time:           0.734815s\n",
      "------------------------------------------------------------ \n",
      "\n",
      "\n",
      "\n",
      "\n",
      "| ******************** Training epoch 21 ********************* |\n",
      "Training with actor lr=7.280e-05 critic lr=2.184e-05 for run run_name_20221212T102301\n"
     ]
    },
    {
     "name": "stderr",
     "output_type": "stream",
     "text": [
      "\n",
      "training:   0%|                    | 0/1200 [00:00<?, ?it/s]"
     ]
    },
    {
     "name": "stdout",
     "output_type": "stream",
     "text": [
      "128 instances initialized.\n"
     ]
    },
    {
     "name": "stderr",
     "output_type": "stream",
     "text": [
      "training:  56%|███████████▏        | 670/1200 [03:56<03:09,  2.80it/s]"
     ]
    },
    {
     "ename": "KeyboardInterrupt",
     "evalue": "",
     "output_type": "error",
     "traceback": [
      "\u001b[0;31m---------------------------------------------------------------------------\u001b[0m",
      "\u001b[0;31mKeyboardInterrupt\u001b[0m                         Traceback (most recent call last)",
      "\u001b[0;32m<ipython-input-3-292cbacf4b3b>\u001b[0m in \u001b[0;36m<module>\u001b[0;34m\u001b[0m\n\u001b[1;32m     37\u001b[0m \u001b[0;34m\u001b[0m\u001b[0m\n\u001b[1;32m     38\u001b[0m                 \u001b[0magent\u001b[0m \u001b[0;34m=\u001b[0m \u001b[0mload_agent\u001b[0m\u001b[0;34m(\u001b[0m\u001b[0mopts\u001b[0m\u001b[0;34m.\u001b[0m\u001b[0mRL_agent\u001b[0m\u001b[0;34m)\u001b[0m\u001b[0;34m(\u001b[0m\u001b[0mexp_dual\u001b[0m\u001b[0;34m,\u001b[0m \u001b[0mexp_encoder\u001b[0m\u001b[0;34m,\u001b[0m \u001b[0mexp_decoder\u001b[0m\u001b[0;34m,\u001b[0m \u001b[0mproblem\u001b[0m\u001b[0;34m.\u001b[0m\u001b[0mNAME\u001b[0m\u001b[0;34m,\u001b[0m \u001b[0mproblem\u001b[0m\u001b[0;34m.\u001b[0m\u001b[0msize\u001b[0m\u001b[0;34m,\u001b[0m  \u001b[0mopts\u001b[0m\u001b[0;34m)\u001b[0m\u001b[0;34m\u001b[0m\u001b[0;34m\u001b[0m\u001b[0m\n\u001b[0;32m---> 39\u001b[0;31m                 \u001b[0magent\u001b[0m\u001b[0;34m.\u001b[0m\u001b[0mstart_training\u001b[0m\u001b[0;34m(\u001b[0m\u001b[0mproblem\u001b[0m\u001b[0;34m,\u001b[0m \u001b[0mopts\u001b[0m\u001b[0;34m.\u001b[0m\u001b[0mval_dataset\u001b[0m\u001b[0;34m,\u001b[0m \u001b[0mtb_logger\u001b[0m\u001b[0;34m)\u001b[0m\u001b[0;34m\u001b[0m\u001b[0;34m\u001b[0m\u001b[0m\n\u001b[0m",
      "\u001b[0;32m~/VRP-DACT-new_version/agent/ppo.py\u001b[0m in \u001b[0;36mstart_training\u001b[0;34m(self, problem, val_dataset, tb_logger)\u001b[0m\n\u001b[1;32m    218\u001b[0m             \u001b[0mmp\u001b[0m\u001b[0;34m.\u001b[0m\u001b[0mspawn\u001b[0m\u001b[0;34m(\u001b[0m\u001b[0mtrain\u001b[0m\u001b[0;34m,\u001b[0m \u001b[0mnprocs\u001b[0m\u001b[0;34m=\u001b[0m\u001b[0mself\u001b[0m\u001b[0;34m.\u001b[0m\u001b[0mopts\u001b[0m\u001b[0;34m.\u001b[0m\u001b[0mworld_size\u001b[0m\u001b[0;34m,\u001b[0m \u001b[0margs\u001b[0m\u001b[0;34m=\u001b[0m\u001b[0;34m(\u001b[0m\u001b[0mproblem\u001b[0m\u001b[0;34m,\u001b[0m \u001b[0mself\u001b[0m\u001b[0;34m,\u001b[0m \u001b[0mval_dataset\u001b[0m\u001b[0;34m,\u001b[0m \u001b[0mtb_logger\u001b[0m\u001b[0;34m)\u001b[0m\u001b[0;34m)\u001b[0m\u001b[0;34m\u001b[0m\u001b[0;34m\u001b[0m\u001b[0m\n\u001b[1;32m    219\u001b[0m         \u001b[0;32melse\u001b[0m\u001b[0;34m:\u001b[0m\u001b[0;34m\u001b[0m\u001b[0;34m\u001b[0m\u001b[0m\n\u001b[0;32m--> 220\u001b[0;31m             \u001b[0mtrain\u001b[0m\u001b[0;34m(\u001b[0m\u001b[0;36m0\u001b[0m\u001b[0;34m,\u001b[0m \u001b[0mproblem\u001b[0m\u001b[0;34m,\u001b[0m \u001b[0mself\u001b[0m\u001b[0;34m,\u001b[0m \u001b[0mval_dataset\u001b[0m\u001b[0;34m,\u001b[0m \u001b[0mtb_logger\u001b[0m\u001b[0;34m)\u001b[0m\u001b[0;34m\u001b[0m\u001b[0;34m\u001b[0m\u001b[0m\n\u001b[0m\u001b[1;32m    221\u001b[0m \u001b[0;34m\u001b[0m\u001b[0m\n\u001b[1;32m    222\u001b[0m \u001b[0;32mdef\u001b[0m \u001b[0mtrain\u001b[0m\u001b[0;34m(\u001b[0m\u001b[0mrank\u001b[0m\u001b[0;34m,\u001b[0m \u001b[0mproblem\u001b[0m\u001b[0;34m,\u001b[0m \u001b[0magent\u001b[0m\u001b[0;34m,\u001b[0m \u001b[0mval_dataset\u001b[0m\u001b[0;34m,\u001b[0m \u001b[0mtb_logger\u001b[0m\u001b[0;34m)\u001b[0m\u001b[0;34m:\u001b[0m\u001b[0;34m\u001b[0m\u001b[0;34m\u001b[0m\u001b[0m\n",
      "\u001b[0;32m~/VRP-DACT-new_version/agent/ppo.py\u001b[0m in \u001b[0;36mtrain\u001b[0;34m(rank, problem, agent, val_dataset, tb_logger)\u001b[0m\n\u001b[1;32m    279\u001b[0m                     bar_format='{l_bar}{bar:20}{r_bar}{bar:-20b}')\n\u001b[1;32m    280\u001b[0m         \u001b[0;32mfor\u001b[0m \u001b[0mbatch_id\u001b[0m\u001b[0;34m,\u001b[0m \u001b[0mbatch\u001b[0m \u001b[0;32min\u001b[0m \u001b[0menumerate\u001b[0m\u001b[0;34m(\u001b[0m\u001b[0mtraining_dataloader\u001b[0m\u001b[0;34m)\u001b[0m\u001b[0;34m:\u001b[0m\u001b[0;34m\u001b[0m\u001b[0;34m\u001b[0m\u001b[0m\n\u001b[0;32m--> 281\u001b[0;31m             train_batch(rank,\n\u001b[0m\u001b[1;32m    282\u001b[0m                         \u001b[0mproblem\u001b[0m\u001b[0;34m,\u001b[0m\u001b[0;34m\u001b[0m\u001b[0;34m\u001b[0m\u001b[0m\n\u001b[1;32m    283\u001b[0m                         \u001b[0magent\u001b[0m\u001b[0;34m,\u001b[0m\u001b[0;34m\u001b[0m\u001b[0;34m\u001b[0m\u001b[0m\n",
      "\u001b[0;32m~/VRP-DACT-new_version/agent/ppo.py\u001b[0m in \u001b[0;36mtrain_batch\u001b[0;34m(rank, problem, agent, epoch, step, batch, tb_logger, opts, pbar)\u001b[0m\n\u001b[1;32m    526\u001b[0m             \u001b[0;31m# update gradient step\u001b[0m\u001b[0;34m\u001b[0m\u001b[0;34m\u001b[0m\u001b[0;34m\u001b[0m\u001b[0m\n\u001b[1;32m    527\u001b[0m             \u001b[0magent\u001b[0m\u001b[0;34m.\u001b[0m\u001b[0moptimizer\u001b[0m\u001b[0;34m.\u001b[0m\u001b[0mzero_grad\u001b[0m\u001b[0;34m(\u001b[0m\u001b[0;34m)\u001b[0m\u001b[0;34m\u001b[0m\u001b[0;34m\u001b[0m\u001b[0m\n\u001b[0;32m--> 528\u001b[0;31m             \u001b[0mloss\u001b[0m\u001b[0;34m.\u001b[0m\u001b[0mbackward\u001b[0m\u001b[0;34m(\u001b[0m\u001b[0;34m)\u001b[0m\u001b[0;34m\u001b[0m\u001b[0;34m\u001b[0m\u001b[0m\n\u001b[0m\u001b[1;32m    529\u001b[0m \u001b[0;34m\u001b[0m\u001b[0m\n\u001b[1;32m    530\u001b[0m             \u001b[0;31m# Clip gradient norm and get (clipped) gradient norms for logging\u001b[0m\u001b[0;34m\u001b[0m\u001b[0;34m\u001b[0m\u001b[0;34m\u001b[0m\u001b[0m\n",
      "\u001b[0;32m~/anaconda3/lib/python3.8/site-packages/torch/_tensor.py\u001b[0m in \u001b[0;36mbackward\u001b[0;34m(self, gradient, retain_graph, create_graph, inputs)\u001b[0m\n\u001b[1;32m    485\u001b[0m                 \u001b[0minputs\u001b[0m\u001b[0;34m=\u001b[0m\u001b[0minputs\u001b[0m\u001b[0;34m,\u001b[0m\u001b[0;34m\u001b[0m\u001b[0;34m\u001b[0m\u001b[0m\n\u001b[1;32m    486\u001b[0m             )\n\u001b[0;32m--> 487\u001b[0;31m         torch.autograd.backward(\n\u001b[0m\u001b[1;32m    488\u001b[0m             \u001b[0mself\u001b[0m\u001b[0;34m,\u001b[0m \u001b[0mgradient\u001b[0m\u001b[0;34m,\u001b[0m \u001b[0mretain_graph\u001b[0m\u001b[0;34m,\u001b[0m \u001b[0mcreate_graph\u001b[0m\u001b[0;34m,\u001b[0m \u001b[0minputs\u001b[0m\u001b[0;34m=\u001b[0m\u001b[0minputs\u001b[0m\u001b[0;34m\u001b[0m\u001b[0;34m\u001b[0m\u001b[0m\n\u001b[1;32m    489\u001b[0m         )\n",
      "\u001b[0;32m~/anaconda3/lib/python3.8/site-packages/torch/autograd/__init__.py\u001b[0m in \u001b[0;36mbackward\u001b[0;34m(tensors, grad_tensors, retain_graph, create_graph, grad_variables, inputs)\u001b[0m\n\u001b[1;32m    195\u001b[0m     \u001b[0;31m# some Python versions print out the first line of a multi-line function\u001b[0m\u001b[0;34m\u001b[0m\u001b[0;34m\u001b[0m\u001b[0;34m\u001b[0m\u001b[0m\n\u001b[1;32m    196\u001b[0m     \u001b[0;31m# calls in the traceback and some print out the last line\u001b[0m\u001b[0;34m\u001b[0m\u001b[0;34m\u001b[0m\u001b[0;34m\u001b[0m\u001b[0m\n\u001b[0;32m--> 197\u001b[0;31m     Variable._execution_engine.run_backward(  # Calls into the C++ engine to run the backward pass\n\u001b[0m\u001b[1;32m    198\u001b[0m         \u001b[0mtensors\u001b[0m\u001b[0;34m,\u001b[0m \u001b[0mgrad_tensors_\u001b[0m\u001b[0;34m,\u001b[0m \u001b[0mretain_graph\u001b[0m\u001b[0;34m,\u001b[0m \u001b[0mcreate_graph\u001b[0m\u001b[0;34m,\u001b[0m \u001b[0minputs\u001b[0m\u001b[0;34m,\u001b[0m\u001b[0;34m\u001b[0m\u001b[0;34m\u001b[0m\u001b[0m\n\u001b[1;32m    199\u001b[0m         allow_unreachable=True, accumulate_grad=True)  # Calls into the C++ engine to run the backward pass\n",
      "\u001b[0;31mKeyboardInterrupt\u001b[0m: "
     ]
    },
    {
     "ename": "",
     "evalue": "",
     "output_type": "error",
     "traceback": [
      "\u001b[1;31mThe Kernel crashed while executing code in the the current cell or a previous cell. Please review the code in the cell(s) to identify a possible cause of the failure. Click <a href='https://aka.ms/vscodeJupyterKernelCrash'>here</a> for more info. View Jupyter <a href='command:jupyter.viewOutput'>log</a> for further details."
     ]
    }
   ],
   "source": [
    "for exp_dual in [False]:\n",
    "    for exp_encoder in ['rnn']:\n",
    "            for exp_decoder in ['attention']:\n",
    "            #for exp_decoder in ['rnn']:\n",
    "                opts = get_options('')\n",
    "                opts.problem = 'tsp'\n",
    "                opts.graph_size = 20\n",
    "                opts.val_dataset='./datasets/tsp_20_10000.pkl'\n",
    "                opts.step_method = '2_opt'\n",
    "                opts.init_val_met = 'random'\n",
    "                opts.no_saving = False\n",
    "                opts.no_tb = False\n",
    "                opts.batch_size = 16\n",
    "                opts.epoch_end = 200\n",
    "                opts.epoch_size = 128\n",
    "                opts.T_max = 1000\n",
    "                opts.val_size = 10\n",
    "                opts.device = torch.device(\"cuda\" if opts.use_cuda else \"cpu\")\n",
    "\n",
    "                tb_logger = None\n",
    "                if not opts.no_tb and not opts.distributed:\n",
    "                    tb_logger = TbLogger(os.path.join(opts.log_dir, \"{}_{}\".format(opts.problem, \n",
    "                                                                    opts.graph_size), opts.run_name))\n",
    "                if not opts.no_saving and not os.path.exists(opts.save_dir):\n",
    "                    os.makedirs(opts.save_dir)\n",
    "                if not opts.no_saving:\n",
    "                    with open(os.path.join(opts.save_dir, \"args.json\"), 'w') as f:\n",
    "                        json.dump(list(vars(opts)), f, indent=True)\n",
    "\n",
    "                problem = load_problem(opts.problem)(\n",
    "                                        p_size = opts.graph_size,\n",
    "                                        step_method = opts.step_method,\n",
    "                                        init_val_met = opts.init_val_met,\n",
    "                                        with_assert = opts.use_assert,\n",
    "                                        P = opts.P,\n",
    "                                        DUMMY_RATE = opts.dummy_rate)\n",
    "\n",
    "                agent = load_agent(opts.RL_agent)(exp_dual, exp_encoder, exp_decoder, problem.NAME, problem.size,  opts)\n",
    "                agent.start_training(problem, opts.val_dataset, tb_logger)"
   ]
  },
  {
   "cell_type": "code",
   "execution_count": null,
   "metadata": {},
   "outputs": [
    {
     "name": "stdout",
     "output_type": "stream",
     "text": [
      "\n",
      "Inference with x1 augments...\n"
     ]
    },
    {
     "name": "stderr",
     "output_type": "stream",
     "text": [
      "rollout:   1%|▏                   | 11/1000 [00:00<00:09, 109.01it/s]"
     ]
    },
    {
     "name": "stdout",
     "output_type": "stream",
     "text": [
      "10 instances initialized.\n"
     ]
    },
    {
     "name": "stderr",
     "output_type": "stream",
     "text": [
      "rollout: 100%|████████████████████| 1000/1000 [00:08<00:00, 113.45it/s]"
     ]
    },
    {
     "name": "stdout",
     "output_type": "stream",
     "text": [
      "\n",
      " ------------------------------------------------------------\n",
      "         Avg total reward:          3.224720   +- 0.314880  \n",
      "          Avg step reward:          0.003225   +- 0.012103  \n",
      "------------------------------------------------------------\n",
      "           Avg init cost:           10.735786  +- 0.417757  \n",
      "    Avg cost after T=500 steps:     10.980497  +- 0.369134  \n",
      "    Avg cost after T=1000 steps:    10.281580  +- 0.432403  \n",
      "------------------------------------------------------------\n",
      "  Avg best cost after T=500 steps:  8.206151   +- 0.236765  \n",
      " Avg best cost after T=1000 steps:  7.511065   +- 0.256105  \n",
      "        Avg final best cost:        7.511065   +- 0.256105  \n",
      "------------------------------------------------------------\n",
      "           Avg used time:           0.881891s\n",
      "------------------------------------------------------------ \n",
      "\n"
     ]
    },
    {
     "name": "stderr",
     "output_type": "stream",
     "text": [
      "\n"
     ]
    }
   ],
   "source": [
    "agent.start_inference(problem, opts.val_dataset, tb_logger)"
   ]
  },
  {
   "cell_type": "code",
   "execution_count": null,
   "metadata": {},
   "outputs": [
    {
     "name": "stdout",
     "output_type": "stream",
     "text": [
      "10 instances initialized.\n"
     ]
    },
    {
     "data": {
      "application/vnd.jupyter.widget-view+json": {
       "model_id": "cb7ad6b9e4a5420287f866903d52013a",
       "version_major": 2,
       "version_minor": 0
      },
      "text/plain": [
       "rollout:   0%|                    | 0/2000 [00:00<?, ?it/s]"
      ]
     },
     "metadata": {},
     "output_type": "display_data"
    },
    {
     "name": "stdout",
     "output_type": "stream",
     "text": [
      "best cost: tensor(7.6793)\n",
      "best rec found: tensor([ 2, 15,  5,  8,  1,  4, 17, 19,  0, 18, 11,  6,  7,  3, 12, 16,  9, 14,\n",
      "        10, 13])\n"
     ]
    },
    {
     "data": {
      "image/png": "[encoded data removed]",
      "text/plain": [
       "<Figure size 800x600 with 1 Axes>"
      ]
     },
     "metadata": {},
     "output_type": "display_data"
    },
    {
     "name": "stdout",
     "output_type": "stream",
     "text": [
      "Linked list format (rec variable):\n",
      " tensor([ 2, 15,  5,  8,  1,  4, 17, 19,  0, 18, 11,  6,  7,  3, 12, 16,  9, 14,\n",
      "        10, 13])\n"
     ]
    }
   ],
   "source": [
    "dataset = TSPDataset(size = 20, num_samples = 10)\n",
    "batch = next(iter(DataLoader(dataset, batch_size=10)))\n",
    "coordinates_first = batch['coordinates'][0]\n",
    "rec = problem.get_initial_solutions(batch)\n",
    "\n",
    "obj = problem.get_costs(batch, rec)\n",
    "best_solution = rec.clone()\n",
    "batch_feature = problem.input_feature_encoding(batch)\n",
    "solving_state = torch.zeros((batch_feature.size(0),1), device = opts.device).long()\n",
    "action = None\n",
    "\n",
    "for t in tqdm(range(2000), disable = opts.no_progress_bar, \n",
    "              desc = 'rollout', bar_format='{l_bar}{bar:20}{r_bar}{bar:-20b}'):\n",
    "\n",
    "     # pass through model\n",
    "    action = agent.actor(problem,\n",
    "                          batch_feature,\n",
    "                          rec,\n",
    "                          action,\n",
    "                          do_sample = True)[0]\n",
    "\n",
    "    # state trasition\n",
    "    rec, rewards, obj, solving_state = problem.step(batch, \n",
    "                                                    rec, \n",
    "                                                    action, \n",
    "                                                    obj, \n",
    "                                                    solving_state, \n",
    "                                                    best_solution = best_solution)\n",
    "\n",
    "    # record informations\n",
    "    best_solution[rewards > 0] = rec[rewards > 0]\n",
    "bv = obj[:,-1].reshape(10, 1).min(1)[0]\n",
    "\n",
    "print('best cost:', bv[0])\n",
    "print('best rec found:', best_solution[0])\n",
    "plot_tour(best_solution[0], coordinates_first)\n",
    "print('Linked list format (rec variable):\\n', best_solution[0])"
   ]
  }
 ],
 "metadata": {
  "kernelspec": {
   "display_name": "Python 3.8.8 ('base': conda)",
   "language": "python",
   "name": "python3"
  },
  "language_info": {
   "codemirror_mode": {
    "name": "ipython",
    "version": 3
   },
   "file_extension": ".py",
   "mimetype": "text/x-python",
   "name": "python",
   "nbconvert_exporter": "python",
   "pygments_lexer": "ipython3",
   "version": "3.8.8"
  },
  "orig_nbformat": 4,
  "vscode": {
   "interpreter": {
    "hash": "3242a12bd22337d578e6ee4799de02d8ca29de1afb6b4965caa7fc30b1aede52"
   }
  }
 },
 "nbformat": 4,
 "nbformat_minor": 2
}
